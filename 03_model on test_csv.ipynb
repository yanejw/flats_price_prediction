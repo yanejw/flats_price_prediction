{
 "cells": [
  {
   "cell_type": "markdown",
   "id": "a1aa5b53-038c-4466-8d93-924931d0e214",
   "metadata": {},
   "source": [
    "# Data cleaning for test.csv set"
   ]
  },
  {
   "cell_type": "markdown",
   "id": "818fe980-adf7-477f-a00f-d87fa59813c9",
   "metadata": {},
   "source": [
    "In order to use the trained model on the test.csv dataset, we have to ensure the test dataframe matches the train dataframe. \n",
    "\n",
    "In this section, we will:\n",
    "1. Check for duplicates\n",
    "2. Drop columns that were dropped in the training set\n",
    "3. Check for null values and drop these values, if any\n",
    "4. Binarize `commercial`, `market_hawker`, `multistorey_carpark`, `precinct_pavilion` columns like in the training dataset\n",
    "5. Add `age_at_tranc` and `resale_price` columns like in the training dataset\n",
    "6. Rearrange columns so that `resale_price` is the first column in the dataset\n",
    "7. Check columns and dtypes match those in training set\n",
    "8. Pickle the test dataset to use in the modelling code notebook (02_model preparation and fitting)"
   ]
  },
  {
   "cell_type": "code",
   "execution_count": 1,
   "id": "2dfdda69-6aed-42d3-adb4-28127feb15ad",
   "metadata": {},
   "outputs": [],
   "source": [
    "# import libraries\n",
    "\n",
    "import pandas as pd\n",
    "import numpy as np"
   ]
  },
  {
   "cell_type": "code",
   "execution_count": 2,
   "id": "f7c85c88-bd34-4f6f-8322-2dd9a97f7df8",
   "metadata": {},
   "outputs": [
    {
     "name": "stderr",
     "output_type": "stream",
     "text": [
      "/var/folders/5q/pll34czs1rg04zxgqg6sl2qw0000gn/T/ipykernel_53316/1843630832.py:3: DtypeWarning: Columns (40) have mixed types. Specify dtype option on import or set low_memory=False.\n",
      "  hdb_test_og = pd.read_csv(\"data/test.csv\")\n"
     ]
    }
   ],
   "source": [
    "# open test.csv file\n",
    "\n",
    "hdb_test_og = pd.read_csv(\"data/test.csv\")"
   ]
  },
  {
   "cell_type": "code",
   "execution_count": 3,
   "id": "837879b7-089c-4696-8a8d-8e10306f9cc0",
   "metadata": {},
   "outputs": [
    {
     "data": {
      "text/plain": [
       "(16737, 76)"
      ]
     },
     "execution_count": 3,
     "metadata": {},
     "output_type": "execute_result"
    }
   ],
   "source": [
    "hdb_test_og.shape"
   ]
  },
  {
   "cell_type": "code",
   "execution_count": 4,
   "id": "cfdc4b1e-5d6d-4bb1-9e6b-374135b71ce0",
   "metadata": {},
   "outputs": [
    {
     "data": {
      "text/plain": [
       "False    16737\n",
       "dtype: int64"
      ]
     },
     "execution_count": 4,
     "metadata": {},
     "output_type": "execute_result"
    }
   ],
   "source": [
    "# check duplicates\n",
    "\n",
    "hdb_test_og.duplicated().value_counts()"
   ]
  },
  {
   "cell_type": "code",
   "execution_count": 5,
   "id": "96fb0e3a-f8ad-41c9-85be-6d802f8e79e3",
   "metadata": {},
   "outputs": [
    {
     "data": {
      "text/plain": [
       "id                   0\n",
       "Tranc_YearMonth      0\n",
       "town                 0\n",
       "flat_type            0\n",
       "block                0\n",
       "                    ..\n",
       "sec_sch_name         0\n",
       "cutoff_point         0\n",
       "affiliation          0\n",
       "sec_sch_latitude     0\n",
       "sec_sch_longitude    0\n",
       "Length: 76, dtype: int64"
      ]
     },
     "execution_count": 5,
     "metadata": {},
     "output_type": "execute_result"
    }
   ],
   "source": [
    "# check null values\n",
    "\n",
    "hdb_test_og.isnull().sum()"
   ]
  },
  {
   "cell_type": "markdown",
   "id": "a5d2efd7-4139-431c-9c44-a4fffcfab0c5",
   "metadata": {},
   "source": [
    "1. Impute missing values into `Mall_Nearest_Distance` by using the average of the other values\n",
    "2. Other columns with null values will be dropped later as not used in test dataframe"
   ]
  },
  {
   "cell_type": "code",
   "execution_count": 6,
   "id": "a0902b7c-28b7-4950-b101-2e56b2c19c0b",
   "metadata": {},
   "outputs": [],
   "source": [
    "# impute average into null values for Mall_Nearest_Distance column\n",
    "\n",
    "average_distance = hdb_test_og['Mall_Nearest_Distance'].mean()\n",
    "\n",
    "from sklearn.impute import SimpleImputer\n",
    "\n",
    "imp_mean = SimpleImputer(missing_values=np.NaN, strategy='constant', fill_value=average_distance)\n",
    "hdb_test_og['Mall_Nearest_Distance'] = imp_mean.fit_transform(hdb_test_og['Mall_Nearest_Distance'].values.reshape(-1,1))"
   ]
  },
  {
   "cell_type": "code",
   "execution_count": 7,
   "id": "fb4ca8ff-f9d9-4af5-8ee0-076d9879606c",
   "metadata": {},
   "outputs": [],
   "source": [
    "# drop columns that were dropped in training set\n",
    "\n",
    "to_drop = ['id', 'Tranc_YearMonth', 'block', 'street_name', 'storey_range', 'floor_area_sqm', 'lower', 'upper', 'mid', 'full_flat_type', 'address', 'hdb_age', 'year_completed', 'residential',\n",
    "           'postal', 'Latitude', 'Longitude', 'Mall_Within_500m', 'Mall_Within_1km', 'Mall_Within_2km', 'Hawker_Within_500m', 'Hawker_Within_1km', 'Hawker_Within_2km', \n",
    "           'mrt_latitude', 'mrt_longitude','bus_stop_name', 'bus_stop_latitude', 'bus_stop_longitude', 'pri_sch_latitude', 'pri_sch_longitude', 'sec_sch_latitude', 'sec_sch_longitude']\n",
    "\n",
    "hdb_test = hdb_test_og.drop(columns = to_drop)"
   ]
  },
  {
   "cell_type": "code",
   "execution_count": 8,
   "id": "5cd20603-98b7-45bd-9ebb-4bf8511beeda",
   "metadata": {},
   "outputs": [],
   "source": [
    "to_binarize = ['commercial', 'market_hawker', 'multistorey_carpark', 'precinct_pavilion']\n",
    "\n",
    "for i in range(0,len(to_binarize)):\n",
    "    hdb_test[to_binarize[i]] = hdb_test[to_binarize[i]].map({'Y': 1, 'N': 0})"
   ]
  },
  {
   "cell_type": "code",
   "execution_count": 9,
   "id": "0be927da-3b7c-4ceb-bd6a-10f532f57b2f",
   "metadata": {},
   "outputs": [],
   "source": [
    "# hdb age at year of transaction\n",
    "\n",
    "hdb_test['age_at_tranc'] = hdb_test['Tranc_Year'] - hdb_test['lease_commence_date']"
   ]
  },
  {
   "cell_type": "code",
   "execution_count": 10,
   "id": "aff3f29f-b4af-4a88-8cd9-f00f908eeecd",
   "metadata": {},
   "outputs": [],
   "source": [
    "hdb_test['resale_price'] = None"
   ]
  },
  {
   "cell_type": "code",
   "execution_count": 11,
   "id": "03a1b8dd-a8a7-41bd-83b3-c2d30bb322f6",
   "metadata": {},
   "outputs": [],
   "source": [
    "hdb_test.insert(0, 'resale_price', hdb_test.pop('resale_price'))"
   ]
  },
  {
   "cell_type": "code",
   "execution_count": 12,
   "id": "d736b8f9-d9a9-4af2-9231-5ccaa636688d",
   "metadata": {},
   "outputs": [],
   "source": [
    "hdb_test['resale_price'] = hdb_test['resale_price'].astype(float)"
   ]
  },
  {
   "cell_type": "code",
   "execution_count": 13,
   "id": "0a3811a6-3b20-444c-9e0a-b86f15e19825",
   "metadata": {},
   "outputs": [],
   "source": [
    "# open hdb test set\n",
    "\n",
    "hdb = pd.read_pickle(\"data/hdb_clean.pkl\")"
   ]
  },
  {
   "cell_type": "code",
   "execution_count": 14,
   "id": "2c52fe80-0511-4655-a903-5fa4989a4b73",
   "metadata": {},
   "outputs": [],
   "source": [
    "# write function to check for matching\n",
    "\n",
    "def check_match(list1, list2):\n",
    "    if len(list1) != len(list2):\n",
    "        print('The shapes do not match')\n",
    "    else:\n",
    "        for i in range(0, len(list1)):\n",
    "            if list1[i] != list2[i]:\n",
    "                print(f'Difference in index {i}')\n",
    "                break\n",
    "        else:\n",
    "            print('Match')"
   ]
  },
  {
   "cell_type": "code",
   "execution_count": 15,
   "id": "de0b8516-780e-4e86-b65b-b5e249f6dbc2",
   "metadata": {},
   "outputs": [
    {
     "name": "stdout",
     "output_type": "stream",
     "text": [
      "Match\n"
     ]
    }
   ],
   "source": [
    "# check that hdb and hdb_test columns match\n",
    "\n",
    "check_match(hdb.columns, hdb_test.columns)"
   ]
  },
  {
   "cell_type": "code",
   "execution_count": 16,
   "id": "20e2c06b-fc8b-406f-a6b9-43d9abbc96a0",
   "metadata": {},
   "outputs": [
    {
     "name": "stdout",
     "output_type": "stream",
     "text": [
      "Match\n"
     ]
    }
   ],
   "source": [
    "# check that hdb and hdb_test dtypes match\n",
    "\n",
    "check_match(hdb.dtypes, hdb_test.dtypes)"
   ]
  },
  {
   "cell_type": "code",
   "execution_count": 17,
   "id": "550755e4-0710-4660-963b-a5b819d9271c",
   "metadata": {},
   "outputs": [],
   "source": [
    "# pickle original and cleaned dataset\n",
    "\n",
    "hdb_test_og.to_pickle('./data/hdb_test_original.pkl')\n",
    "hdb_test.to_pickle('./data/hdb_test_clean.pkl')"
   ]
  }
 ],
 "metadata": {
  "kernelspec": {
   "display_name": "Python 3 (ipykernel)",
   "language": "python",
   "name": "python3"
  },
  "language_info": {
   "codemirror_mode": {
    "name": "ipython",
    "version": 3
   },
   "file_extension": ".py",
   "mimetype": "text/x-python",
   "name": "python",
   "nbconvert_exporter": "python",
   "pygments_lexer": "ipython3",
   "version": "3.8.16"
  }
 },
 "nbformat": 4,
 "nbformat_minor": 5
}
